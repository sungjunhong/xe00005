{
  "nbformat": 4,
  "nbformat_minor": 0,
  "metadata": {
    "colab": {
      "provenance": []
    },
    "kernelspec": {
      "name": "python3",
      "display_name": "Python 3"
    },
    "language_info": {
      "name": "python"
    }
  },
  "cells": [
    {
      "cell_type": "code",
      "execution_count": 5,
      "metadata": {
        "colab": {
          "base_uri": "https://localhost:8080/"
        },
        "id": "iQwlW1FfD9ZM",
        "outputId": "24c3cbe4-be1f-4506-e47e-16e3b41a6484"
      },
      "outputs": [
        {
          "output_type": "stream",
          "name": "stdout",
          "text": [
            "Writing struct_sample.c\n"
          ]
        }
      ],
      "source": [
        "%%writefile struct_sample.c\n",
        "\n",
        "#include <stdio.h>\n",
        "typedef struct {\n",
        "    double v;\n",
        "    int t;\n",
        "    char c;\n",
        "} save_type;\n",
        "\n",
        "int main() {\n",
        "\n",
        "    save_type s = {7.5f, 15, 'A'};\n",
        "    FILE *f = fopen(\"output\", \"w\");\n",
        "    fwrite(&s, sizeof(save_type), 1, f);\n",
        "    fclose(f);\n",
        "    return 0;\n",
        "}"
      ]
    },
    {
      "cell_type": "code",
      "source": [
        "! gcc struct_sample.c -o struct_sample"
      ],
      "metadata": {
        "id": "Cqve6GriEZOK"
      },
      "execution_count": 6,
      "outputs": []
    },
    {
      "cell_type": "code",
      "source": [
        "! ./struct_sample"
      ],
      "metadata": {
        "id": "4c9RizYfEmqF"
      },
      "execution_count": 7,
      "outputs": []
    },
    {
      "cell_type": "code",
      "source": [
        "# struct_sample.py\n",
        "import struct\n",
        "\n",
        "with open('output', 'rb') as f:\n",
        "    chunk = f.read(16)\n",
        "    result = struct.unpack('dicccc', chunk)\n",
        "    print(result)"
      ],
      "metadata": {
        "colab": {
          "base_uri": "https://localhost:8080/"
        },
        "id": "0R4wTQQCE5pW",
        "outputId": "8854c844-e1c3-4024-c476-3cec56551650"
      },
      "execution_count": 8,
      "outputs": [
        {
          "output_type": "stream",
          "name": "stdout",
          "text": [
            "(7.5, 15, b'A', b'V', b'\\x00', b'\\x00')\n"
          ]
        }
      ]
    }
  ]
}